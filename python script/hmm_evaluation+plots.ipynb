{
  "nbformat": 4,
  "nbformat_minor": 0,
  "metadata": {
    "colab": {
      "provenance": []
    },
    "kernelspec": {
      "name": "python3",
      "display_name": "Python 3"
    },
    "language_info": {
      "name": "python"
    }
  },
  "cells": [
    {
      "cell_type": "markdown",
      "source": [
        "# **LB1 project**\n",
        "\n",
        "The following script allows to evaluate and visualize the performace of a hmm classifier using a set of specified E-value thresholds. You need to pass the output of hmmsearch (.txt) and a file containing only the positive test-set (.fasta).\n",
        "\n",
        "\n",
        "NB: the output file of hmmsearch has to be previously modify to keep only the id and the E-value in every line (separated by one or more spaces).\n",
        "\n",
        "e.g.,\n",
        "\n",
        "\" A0A6P8HC43 1e-27\n",
        "\n",
        "Q28864 2.1e-28\n",
        "\n",
        "Q02445 3e-27\n",
        "\n",
        "O54819 3.7e-27\n",
        "\n",
        "Q03610 3.7e-20\n",
        "\n",
        "P83606 1e-22\n",
        "\n",
        "Q7YRQ8 6e-27\n",
        "\n",
        "Q6T269 3.9e-26 \"\n",
        "\n"
      ],
      "metadata": {
        "id": "bqazeLee8MCs"
      }
    },
    {
      "cell_type": "code",
      "execution_count": null,
      "metadata": {
        "id": "kI_gnFW9AkOj"
      },
      "outputs": [],
      "source": [
        "import pandas as pd\n",
        "import numpy as np\n",
        "import matplotlib.pyplot as plt\n",
        "from sklearn.metrics import confusion_matrix, precision_score, recall_score, f1_score, accuracy_score, matthews_corrcoef, roc_curve, auc\n",
        "\n",
        "!pip install biopython\n",
        "from Bio import SeqIO"
      ]
    },
    {
      "cell_type": "code",
      "source": [
        "def extract_id(fasta_file):\n",
        "  ''' takes a fasta file as input and returns a list containing only the id'''\n",
        "\n",
        "  sequences = SeqIO.parse(fasta_file, \"fasta\") \n",
        "  id_list = []\n",
        "\n",
        "  for record in sequences:\n",
        "      aux = (record.id).split('|')[1]\n",
        "      id_list.append(aux)\n",
        "  return id_list"
      ],
      "metadata": {
        "id": "ZrnWbWvNBJif"
      },
      "execution_count": 2,
      "outputs": []
    },
    {
      "cell_type": "code",
      "source": [
        "def assign_labels_predictions(hmmsearch_txt,positives_fasta,threshold):\n",
        "  ''' takes a txt file containing only one id and E-value divided by a space in each lineas, the fasta file with the sequences of the positive set and a value for the threshold as inputs. \n",
        "  It eturns a list containing the true labels, a list containing the predictions, a list containing the false positive ids and a list containing the false negative ids.'''\n",
        "  \n",
        "  new_output = [] \n",
        "  with open(hmmsearch_txt, 'r') as output:\n",
        "    for line in output:\n",
        "      aux = line.split()\n",
        "      new_output.append([aux[0],float(aux[1])])\n",
        "  \n",
        "  id_list = extract_id(positives_fasta)\n",
        "\n",
        "  labels = [] \n",
        "  predictions = []\n",
        "  fp_ids = []\n",
        "  fn_ids = []\n",
        "\n",
        "\n",
        "  for row in new_output: # assign the true label\n",
        "    if row[0] in id_list:\n",
        "      true = 1\n",
        "    else:\n",
        "      true = 0\n",
        "    labels.append(true)\n",
        "\n",
        "    if row[1] < threshold: # make the classification based on the threshold\n",
        "      pred = 1\n",
        "    else:\n",
        "      pred = 0\n",
        "    predictions.append(pred)\n",
        "\n",
        "    if true == 0 and pred == 1: # save false positives/negatives\n",
        "      fp_ids.append(row[0])\n",
        "    elif true == 1 and pred == 0:\n",
        "      fn_ids.append(row[0])\n",
        "\n",
        "  return (labels,predictions,fp_ids,fn_ids)"
      ],
      "metadata": {
        "id": "spPvDz6WBXaK"
      },
      "execution_count": 3,
      "outputs": []
    },
    {
      "cell_type": "code",
      "source": [
        "def score_summary(hmmsearch_txt,positives_fasta,thresholds_list):\n",
        "  '''returns a dataframe containing various evaluation scores in each column and the E-value threshold used in each row'''\n",
        "\n",
        "  scores_summary = pd.DataFrame(columns=['threshold', 'cm', 'mcc', 'f1', 'auc', 'accuracy', 'precision', 'recall','tpr', 'fpr', 'fp_ids', 'fn_ids'])\n",
        "\n",
        "  for threshold in thresholds_list:\n",
        "\n",
        "    labels, predictions, fp_ids, fn_ids = assign_labels_predictions(hmmsearch_txt,positives_fasta,threshold)\n",
        "    cm = confusion_matrix(labels, predictions)\n",
        "    fpr, tpr, thresholds = roc_curve(labels, predictions)\n",
        "\n",
        "    scores = {'cm': cm,\n",
        "              'mcc': matthews_corrcoef(labels, predictions),\n",
        "              'precision': precision_score(labels, predictions, average='binary'),\n",
        "              'recall': recall_score(labels, predictions, average='binary'),\n",
        "              'f1': f1_score(labels, predictions, average='binary'),\n",
        "              'accuracy': accuracy_score(labels, predictions),\n",
        "              'auc': auc(fpr,tpr),\n",
        "              'fpr': fpr,\n",
        "              'tpr': tpr,\n",
        "              'fp_ids': fp_ids,\n",
        "              'fn_ids': fn_ids}\n",
        "\n",
        "    scores['threshold'] = str(threshold)\n",
        "    scores_summary = scores_summary.append(scores, ignore_index=True)\n",
        "\n",
        "  return scores_summary"
      ],
      "metadata": {
        "id": "qHCzba5pBdXn"
      },
      "execution_count": 11,
      "outputs": []
    },
    {
      "cell_type": "markdown",
      "source": [
        "## **Model Evaluation**"
      ],
      "metadata": {
        "id": "Kj8lUgmgBp1W"
      }
    },
    {
      "cell_type": "code",
      "source": [
        "%%capture\n",
        "\n",
        "hmmsearch_txt = 'hmmsearch_test_pfam_final.txt'\n",
        "positives_fasta = 'filtered_positive.fasta'\n",
        "\n",
        "thresholds_list = []\n",
        "for exponent in range(5, 12): #generate a list of thresholds \n",
        "    power = 10 ** -exponent\n",
        "    thresholds_list.append(power)\n",
        "\n",
        "scores_summary = score_summary(hmmsearch_txt,positives_fasta,thresholds_list) #input_fasta,"
      ],
      "metadata": {
        "id": "SY9jDVqYBf73"
      },
      "execution_count": 69,
      "outputs": []
    },
    {
      "cell_type": "code",
      "source": [
        "scores_summary.head()"
      ],
      "metadata": {
        "colab": {
          "base_uri": "https://localhost:8080/",
          "height": 206
        },
        "id": "6IOATRJA_Y3w",
        "outputId": "8615c5c4-c98d-450a-e8f9-35a334fa515e"
      },
      "execution_count": 70,
      "outputs": [
        {
          "output_type": "execute_result",
          "data": {
            "text/plain": [
              "  threshold                        cm       mcc        f1       auc  accuracy  \\\n",
              "0     1e-05  [[569112, 14], [0, 374]]  0.981781  0.981627  0.999988  0.999975   \n",
              "1     1e-06   [[569117, 9], [1, 373]]  0.986819  0.986772  0.998655  0.999982   \n",
              "2     1e-07   [[569120, 6], [2, 372]]  0.989369  0.989362  0.997321  0.999986   \n",
              "3     1e-08   [[569125, 1], [2, 372]]  0.995982  0.995984  0.997325  0.999995   \n",
              "4     1e-09   [[569126, 0], [3, 371]]  0.995979  0.995973  0.995989  0.999995   \n",
              "\n",
              "   precision    recall                             tpr  \\\n",
              "0   0.963918  1.000000                 [0.0, 1.0, 1.0]   \n",
              "1   0.976440  0.997326  [0.0, 0.9973262032085561, 1.0]   \n",
              "2   0.984127  0.994652  [0.0, 0.9946524064171123, 1.0]   \n",
              "3   0.997319  0.994652  [0.0, 0.9946524064171123, 1.0]   \n",
              "4   1.000000  0.991979  [0.0, 0.9919786096256684, 1.0]   \n",
              "\n",
              "                                  fpr  \\\n",
              "0   [0.0, 2.459912216275482e-05, 1.0]   \n",
              "1  [0.0, 1.5813721390342386e-05, 1.0]   \n",
              "2  [0.0, 1.0542480926894923e-05, 1.0]   \n",
              "3  [0.0, 1.7570801544824872e-06, 1.0]   \n",
              "4                     [0.0, 0.0, 1.0]   \n",
              "\n",
              "                                              fp_ids                    fn_ids  \n",
              "0  [Q8WPG5, P84555, P56409, Q09JW3, C5H8E7, Q09JW...                        []  \n",
              "1  [Q8WPG5, P84555, P56409, Q09JW3, C5H8E7, Q09JW...                  [D3GGZ8]  \n",
              "2   [Q8WPG5, P84555, P56409, Q09JW3, C5H8E7, Q09JW4]          [O62247, D3GGZ8]  \n",
              "3                                           [P84555]          [O62247, D3GGZ8]  \n",
              "4                                                 []  [P86963, O62247, D3GGZ8]  "
            ],
            "text/html": [
              "\n",
              "  <div id=\"df-6266dfaa-27c7-47b9-96df-e6fdef04ed93\">\n",
              "    <div class=\"colab-df-container\">\n",
              "      <div>\n",
              "<style scoped>\n",
              "    .dataframe tbody tr th:only-of-type {\n",
              "        vertical-align: middle;\n",
              "    }\n",
              "\n",
              "    .dataframe tbody tr th {\n",
              "        vertical-align: top;\n",
              "    }\n",
              "\n",
              "    .dataframe thead th {\n",
              "        text-align: right;\n",
              "    }\n",
              "</style>\n",
              "<table border=\"1\" class=\"dataframe\">\n",
              "  <thead>\n",
              "    <tr style=\"text-align: right;\">\n",
              "      <th></th>\n",
              "      <th>threshold</th>\n",
              "      <th>cm</th>\n",
              "      <th>mcc</th>\n",
              "      <th>f1</th>\n",
              "      <th>auc</th>\n",
              "      <th>accuracy</th>\n",
              "      <th>precision</th>\n",
              "      <th>recall</th>\n",
              "      <th>tpr</th>\n",
              "      <th>fpr</th>\n",
              "      <th>fp_ids</th>\n",
              "      <th>fn_ids</th>\n",
              "    </tr>\n",
              "  </thead>\n",
              "  <tbody>\n",
              "    <tr>\n",
              "      <th>0</th>\n",
              "      <td>1e-05</td>\n",
              "      <td>[[569112, 14], [0, 374]]</td>\n",
              "      <td>0.981781</td>\n",
              "      <td>0.981627</td>\n",
              "      <td>0.999988</td>\n",
              "      <td>0.999975</td>\n",
              "      <td>0.963918</td>\n",
              "      <td>1.000000</td>\n",
              "      <td>[0.0, 1.0, 1.0]</td>\n",
              "      <td>[0.0, 2.459912216275482e-05, 1.0]</td>\n",
              "      <td>[Q8WPG5, P84555, P56409, Q09JW3, C5H8E7, Q09JW...</td>\n",
              "      <td>[]</td>\n",
              "    </tr>\n",
              "    <tr>\n",
              "      <th>1</th>\n",
              "      <td>1e-06</td>\n",
              "      <td>[[569117, 9], [1, 373]]</td>\n",
              "      <td>0.986819</td>\n",
              "      <td>0.986772</td>\n",
              "      <td>0.998655</td>\n",
              "      <td>0.999982</td>\n",
              "      <td>0.976440</td>\n",
              "      <td>0.997326</td>\n",
              "      <td>[0.0, 0.9973262032085561, 1.0]</td>\n",
              "      <td>[0.0, 1.5813721390342386e-05, 1.0]</td>\n",
              "      <td>[Q8WPG5, P84555, P56409, Q09JW3, C5H8E7, Q09JW...</td>\n",
              "      <td>[D3GGZ8]</td>\n",
              "    </tr>\n",
              "    <tr>\n",
              "      <th>2</th>\n",
              "      <td>1e-07</td>\n",
              "      <td>[[569120, 6], [2, 372]]</td>\n",
              "      <td>0.989369</td>\n",
              "      <td>0.989362</td>\n",
              "      <td>0.997321</td>\n",
              "      <td>0.999986</td>\n",
              "      <td>0.984127</td>\n",
              "      <td>0.994652</td>\n",
              "      <td>[0.0, 0.9946524064171123, 1.0]</td>\n",
              "      <td>[0.0, 1.0542480926894923e-05, 1.0]</td>\n",
              "      <td>[Q8WPG5, P84555, P56409, Q09JW3, C5H8E7, Q09JW4]</td>\n",
              "      <td>[O62247, D3GGZ8]</td>\n",
              "    </tr>\n",
              "    <tr>\n",
              "      <th>3</th>\n",
              "      <td>1e-08</td>\n",
              "      <td>[[569125, 1], [2, 372]]</td>\n",
              "      <td>0.995982</td>\n",
              "      <td>0.995984</td>\n",
              "      <td>0.997325</td>\n",
              "      <td>0.999995</td>\n",
              "      <td>0.997319</td>\n",
              "      <td>0.994652</td>\n",
              "      <td>[0.0, 0.9946524064171123, 1.0]</td>\n",
              "      <td>[0.0, 1.7570801544824872e-06, 1.0]</td>\n",
              "      <td>[P84555]</td>\n",
              "      <td>[O62247, D3GGZ8]</td>\n",
              "    </tr>\n",
              "    <tr>\n",
              "      <th>4</th>\n",
              "      <td>1e-09</td>\n",
              "      <td>[[569126, 0], [3, 371]]</td>\n",
              "      <td>0.995979</td>\n",
              "      <td>0.995973</td>\n",
              "      <td>0.995989</td>\n",
              "      <td>0.999995</td>\n",
              "      <td>1.000000</td>\n",
              "      <td>0.991979</td>\n",
              "      <td>[0.0, 0.9919786096256684, 1.0]</td>\n",
              "      <td>[0.0, 0.0, 1.0]</td>\n",
              "      <td>[]</td>\n",
              "      <td>[P86963, O62247, D3GGZ8]</td>\n",
              "    </tr>\n",
              "  </tbody>\n",
              "</table>\n",
              "</div>\n",
              "      <button class=\"colab-df-convert\" onclick=\"convertToInteractive('df-6266dfaa-27c7-47b9-96df-e6fdef04ed93')\"\n",
              "              title=\"Convert this dataframe to an interactive table.\"\n",
              "              style=\"display:none;\">\n",
              "        \n",
              "  <svg xmlns=\"http://www.w3.org/2000/svg\" height=\"24px\"viewBox=\"0 0 24 24\"\n",
              "       width=\"24px\">\n",
              "    <path d=\"M0 0h24v24H0V0z\" fill=\"none\"/>\n",
              "    <path d=\"M18.56 5.44l.94 2.06.94-2.06 2.06-.94-2.06-.94-.94-2.06-.94 2.06-2.06.94zm-11 1L8.5 8.5l.94-2.06 2.06-.94-2.06-.94L8.5 2.5l-.94 2.06-2.06.94zm10 10l.94 2.06.94-2.06 2.06-.94-2.06-.94-.94-2.06-.94 2.06-2.06.94z\"/><path d=\"M17.41 7.96l-1.37-1.37c-.4-.4-.92-.59-1.43-.59-.52 0-1.04.2-1.43.59L10.3 9.45l-7.72 7.72c-.78.78-.78 2.05 0 2.83L4 21.41c.39.39.9.59 1.41.59.51 0 1.02-.2 1.41-.59l7.78-7.78 2.81-2.81c.8-.78.8-2.07 0-2.86zM5.41 20L4 18.59l7.72-7.72 1.47 1.35L5.41 20z\"/>\n",
              "  </svg>\n",
              "      </button>\n",
              "      \n",
              "  <style>\n",
              "    .colab-df-container {\n",
              "      display:flex;\n",
              "      flex-wrap:wrap;\n",
              "      gap: 12px;\n",
              "    }\n",
              "\n",
              "    .colab-df-convert {\n",
              "      background-color: #E8F0FE;\n",
              "      border: none;\n",
              "      border-radius: 50%;\n",
              "      cursor: pointer;\n",
              "      display: none;\n",
              "      fill: #1967D2;\n",
              "      height: 32px;\n",
              "      padding: 0 0 0 0;\n",
              "      width: 32px;\n",
              "    }\n",
              "\n",
              "    .colab-df-convert:hover {\n",
              "      background-color: #E2EBFA;\n",
              "      box-shadow: 0px 1px 2px rgba(60, 64, 67, 0.3), 0px 1px 3px 1px rgba(60, 64, 67, 0.15);\n",
              "      fill: #174EA6;\n",
              "    }\n",
              "\n",
              "    [theme=dark] .colab-df-convert {\n",
              "      background-color: #3B4455;\n",
              "      fill: #D2E3FC;\n",
              "    }\n",
              "\n",
              "    [theme=dark] .colab-df-convert:hover {\n",
              "      background-color: #434B5C;\n",
              "      box-shadow: 0px 1px 3px 1px rgba(0, 0, 0, 0.15);\n",
              "      filter: drop-shadow(0px 1px 2px rgba(0, 0, 0, 0.3));\n",
              "      fill: #FFFFFF;\n",
              "    }\n",
              "  </style>\n",
              "\n",
              "      <script>\n",
              "        const buttonEl =\n",
              "          document.querySelector('#df-6266dfaa-27c7-47b9-96df-e6fdef04ed93 button.colab-df-convert');\n",
              "        buttonEl.style.display =\n",
              "          google.colab.kernel.accessAllowed ? 'block' : 'none';\n",
              "\n",
              "        async function convertToInteractive(key) {\n",
              "          const element = document.querySelector('#df-6266dfaa-27c7-47b9-96df-e6fdef04ed93');\n",
              "          const dataTable =\n",
              "            await google.colab.kernel.invokeFunction('convertToInteractive',\n",
              "                                                     [key], {});\n",
              "          if (!dataTable) return;\n",
              "\n",
              "          const docLinkHtml = 'Like what you see? Visit the ' +\n",
              "            '<a target=\"_blank\" href=https://colab.research.google.com/notebooks/data_table.ipynb>data table notebook</a>'\n",
              "            + ' to learn more about interactive tables.';\n",
              "          element.innerHTML = '';\n",
              "          dataTable['output_type'] = 'display_data';\n",
              "          await google.colab.output.renderOutput(dataTable, element);\n",
              "          const docLink = document.createElement('div');\n",
              "          docLink.innerHTML = docLinkHtml;\n",
              "          element.appendChild(docLink);\n",
              "        }\n",
              "      </script>\n",
              "    </div>\n",
              "  </div>\n",
              "  "
            ]
          },
          "metadata": {},
          "execution_count": 70
        }
      ]
    },
    {
      "cell_type": "code",
      "source": [
        "scores_summary.to_csv('hmmsearch_cv2_pfam_final.csv', index=False)"
      ],
      "metadata": {
        "id": "iGnerMyyBlbt"
      },
      "execution_count": 6,
      "outputs": []
    },
    {
      "cell_type": "markdown",
      "source": [
        "*  **Take only the scores of interest for the report**"
      ],
      "metadata": {
        "id": "6Fggi4Ua91hf"
      }
    },
    {
      "cell_type": "code",
      "source": [
        "%%capture \n",
        "n_fp = []\n",
        "for i, row in scores_summary['fp_ids'].iteritems():\n",
        "  n_fp.append(len(row))\n",
        "\n",
        "n_fn = []\n",
        "for i, row in scores_summary['fn_ids'].iteritems():\n",
        "  n_fn.append(len(row))\n",
        "\n",
        "scores_report = scores_summary[['threshold','mcc','f1','auc','accuracy','precision','recall','fp_ids','fn_ids']]\n",
        "scores_report['fp'] = n_fp\n",
        "scores_report['fn'] = n_fn"
      ],
      "metadata": {
        "id": "CqyBS6Ss90r1"
      },
      "execution_count": 71,
      "outputs": []
    },
    {
      "cell_type": "code",
      "source": [
        "scores_report.to_excel('test_pfam_scores.xlsx')"
      ],
      "metadata": {
        "id": "A7kQBCQMCGlX"
      },
      "execution_count": 72,
      "outputs": []
    },
    {
      "cell_type": "markdown",
      "source": [
        "## **Plots**"
      ],
      "metadata": {
        "id": "w59J5AJ78DDL"
      }
    },
    {
      "cell_type": "code",
      "source": [
        "scores_summary = pd.read_csv('hmmsearch_cv1_1bpi+3tgi_final.csv')\n",
        "scores_summary.head(10) "
      ],
      "metadata": {
        "id": "7vCMDQZJBn_f"
      },
      "execution_count": null,
      "outputs": []
    },
    {
      "cell_type": "code",
      "source": [
        "score = 'mcc'\n",
        "\n",
        "thresholds = scores_summary['threshold']\n",
        "for i,element in thresholds.iteritems():\n",
        "  thresholds.at[i] = str(element)\n",
        " \n",
        "\n",
        "plt.figure(figsize=(15, 5)) \n",
        "plt.tight_layout() # Ensure the tick labels are not cut off\n",
        "plt.plot(thresholds,scores_summary[score],linewidth=2.5) #,color='#800080')\n",
        "plt.xlabel('E-value', fontsize=10)\n",
        "plt.ylabel(score, fontsize=10)\n",
        "#plt.xticks(np.arange(0, 42, 2),thresholds)\n",
        "plt.title(score.upper(), fontsize=13)\n",
        "plt.show()"
      ],
      "metadata": {
        "colab": {
          "base_uri": "https://localhost:8080/",
          "height": 522
        },
        "id": "yTdTkxyu88du",
        "outputId": "bebf30b3-bb58-46d1-8efe-9ba211188544"
      },
      "execution_count": 78,
      "outputs": [
        {
          "output_type": "stream",
          "name": "stderr",
          "text": [
            "<ipython-input-78-f58dc6cf2679>:4: FutureWarning: iteritems is deprecated and will be removed in a future version. Use .items instead.\n",
            "  for i,element in thresholds.iteritems():\n"
          ]
        },
        {
          "output_type": "display_data",
          "data": {
            "text/plain": [
              "<Figure size 1500x500 with 1 Axes>"
            ],
            "image/png": "[encoded data removed]"
          },
          "metadata": {}
        }
      ]
    },
    {
      "cell_type": "markdown",
      "source": [
        "*  **ROC Curve**"
      ],
      "metadata": {
        "id": "G4pioko3W7HZ"
      }
    },
    {
      "cell_type": "code",
      "source": [
        "threshold_index = 3\n",
        "\n",
        "plt.plot(scores_summary.loc[threshold_index,'fpr'], scores_summary.loc[threshold_index,'tpr'], label='Model1 (auc = %s )' % str(scores_summary.loc[threshold_index,'auc'])[0:5]) \n",
        "plt.plot([0, 1], [0, 1], 'r--', label='Random model',color='black')  # Plot the diagonal line\n",
        "plt.xlabel(r'FPR', fontsize=10)\n",
        "plt.ylabel(r'TPR', fontsize=10)\n",
        "plt.title(r'ROC Model1', fontsize=13)\n",
        "plt.legend(loc='lower right')\n",
        "plt.show()"
      ],
      "metadata": {
        "colab": {
          "base_uri": "https://localhost:8080/",
          "height": 507
        },
        "id": "Vt4W6wGnW94C",
        "outputId": "f645d69b-eab5-452f-bbff-d4563b5e90b6"
      },
      "execution_count": 77,
      "outputs": [
        {
          "output_type": "stream",
          "name": "stderr",
          "text": [
            "<ipython-input-77-9aa932dd44a1>:4: UserWarning: color is redundantly defined by the 'color' keyword argument and the fmt string \"r--\" (-> color='r'). The keyword argument will take precedence.\n",
            "  plt.plot([0, 1], [0, 1], 'r--', label='Random model',color='black')  # Plot the diagonal line\n"
          ]
        },
        {
          "output_type": "display_data",
          "data": {
            "text/plain": [
              "<Figure size 640x480 with 1 Axes>"
            ],
            "image/png": "[encoded data removed]"
          },
          "metadata": {}
        }
      ]
    }
  ]
}